{
  "cells": [
    {
      "cell_type": "markdown",
      "metadata": {
        "id": "XET8GQEV-4T4"
      },
      "source": [
        "Group Memebers\n",
        "\n",
        "*   Chirag Gupta - 10623123\n",
        "*   Chukwuebuka Uwaoma - 10621864\n",
        "*   Dipanshu\n",
        "\n"
      ]
    },
    {
      "cell_type": "code",
      "execution_count": 14,
      "metadata": {
        "id": "dfXBntXb22Lc"
      },
      "outputs": [],
      "source": [
        "# Import necesarry libraries\n",
        "import tweepy\n",
        "import os\n",
        "from dotenv import load_dotenv\n",
        "import numpy as np\n",
        "import pandas as pd\n",
        "import mysql.connector"
      ]
    },
    {
      "cell_type": "code",
      "execution_count": 10,
      "metadata": {
        "id": "UJ3cLa0D3bGr"
      },
      "outputs": [],
      "source": [
        "# Load dotenv and read secret keys and tokens\n",
        "load_dotenv()\n",
        "api_key = os.getenv('api_key')\n",
        "api_secret_key = os.getenv('api_secret_key')\n",
        "access_token = os.getenv('access_token')\n",
        "access_token_secret = os.getenv('access_token_secret')"
      ]
    },
    {
      "cell_type": "code",
      "execution_count": 11,
      "metadata": {
        "id": "F_CxRvi33iL7"
      },
      "outputs": [],
      "source": [
        "# Connect to twitter using tweepy API and stored tokens\n",
        "auth = tweepy.OAuthHandler(api_key,api_secret_key)\n",
        "auth.set_access_token(access_token,access_token_secret)\n",
        "api = tweepy.API(auth)"
      ]
    },
    {
      "cell_type": "code",
      "execution_count": 12,
      "metadata": {},
      "outputs": [
        {
          "data": {
            "text/html": [
              "<div>\n",
              "<style scoped>\n",
              "    .dataframe tbody tr th:only-of-type {\n",
              "        vertical-align: middle;\n",
              "    }\n",
              "\n",
              "    .dataframe tbody tr th {\n",
              "        vertical-align: top;\n",
              "    }\n",
              "\n",
              "    .dataframe thead th {\n",
              "        text-align: right;\n",
              "    }\n",
              "</style>\n",
              "<table border=\"1\" class=\"dataframe\">\n",
              "  <thead>\n",
              "    <tr style=\"text-align: right;\">\n",
              "      <th></th>\n",
              "      <th>id</th>\n",
              "      <th>created_at</th>\n",
              "      <th>username</th>\n",
              "      <th>tweet</th>\n",
              "      <th>retweet_count</th>\n",
              "      <th>favorite_count</th>\n",
              "      <th>user_location</th>\n",
              "    </tr>\n",
              "  </thead>\n",
              "  <tbody>\n",
              "    <tr>\n",
              "      <th>0</th>\n",
              "      <td>1646811056231071744</td>\n",
              "      <td>2023-04-14 09:42:06+00:00</td>\n",
              "      <td>CorkGreens</td>\n",
              "      <td>The State is to claw back windfall gains from ...</td>\n",
              "      <td>0</td>\n",
              "      <td>0</td>\n",
              "      <td>Cork, Ireland</td>\n",
              "    </tr>\n",
              "    <tr>\n",
              "      <th>1</th>\n",
              "      <td>1646807883898662912</td>\n",
              "      <td>2023-04-14 09:29:30+00:00</td>\n",
              "      <td>ruralnetwork</td>\n",
              "      <td>Poultry Housing Order to be lifted next Tuesda...</td>\n",
              "      <td>0</td>\n",
              "      <td>0</td>\n",
              "      <td>Moate, Co. Westmeath</td>\n",
              "    </tr>\n",
              "    <tr>\n",
              "      <th>2</th>\n",
              "      <td>1646801764950196224</td>\n",
              "      <td>2023-04-14 09:05:11+00:00</td>\n",
              "      <td>KildareCoCo</td>\n",
              "      <td>Two properties have been advertised on Choice ...</td>\n",
              "      <td>1</td>\n",
              "      <td>0</td>\n",
              "      <td>County Kildare</td>\n",
              "    </tr>\n",
              "    <tr>\n",
              "      <th>3</th>\n",
              "      <td>1646801744809041920</td>\n",
              "      <td>2023-04-14 09:05:06+00:00</td>\n",
              "      <td>JohnCharlesLave</td>\n",
              "      <td>How Northern Ireland works:\\nThe UK's flagship...</td>\n",
              "      <td>0</td>\n",
              "      <td>3</td>\n",
              "      <td>Northern Ireland</td>\n",
              "    </tr>\n",
              "    <tr>\n",
              "      <th>4</th>\n",
              "      <td>1646800457568747522</td>\n",
              "      <td>2023-04-14 08:59:59+00:00</td>\n",
              "      <td>FHP_Architects</td>\n",
              "      <td>For 2022, the Government set a target for the ...</td>\n",
              "      <td>0</td>\n",
              "      <td>0</td>\n",
              "      <td>Waterford, Ireland</td>\n",
              "    </tr>\n",
              "  </tbody>\n",
              "</table>\n",
              "</div>"
            ],
            "text/plain": [
              "                    id                created_at         username   \n",
              "0  1646811056231071744 2023-04-14 09:42:06+00:00       CorkGreens  \\\n",
              "1  1646807883898662912 2023-04-14 09:29:30+00:00     ruralnetwork   \n",
              "2  1646801764950196224 2023-04-14 09:05:11+00:00      KildareCoCo   \n",
              "3  1646801744809041920 2023-04-14 09:05:06+00:00  JohnCharlesLave   \n",
              "4  1646800457568747522 2023-04-14 08:59:59+00:00   FHP_Architects   \n",
              "\n",
              "                                               tweet retweet_count   \n",
              "0  The State is to claw back windfall gains from ...             0  \\\n",
              "1  Poultry Housing Order to be lifted next Tuesda...             0   \n",
              "2  Two properties have been advertised on Choice ...             1   \n",
              "3  How Northern Ireland works:\\nThe UK's flagship...             0   \n",
              "4  For 2022, the Government set a target for the ...             0   \n",
              "\n",
              "  favorite_count         user_location  \n",
              "0              0         Cork, Ireland  \n",
              "1              0  Moate, Co. Westmeath  \n",
              "2              0        County Kildare  \n",
              "3              3      Northern Ireland  \n",
              "4              0    Waterford, Ireland  "
            ]
          },
          "execution_count": 12,
          "metadata": {},
          "output_type": "execute_result"
        }
      ],
      "source": [
        "# Pulls tweets based on search query and geocode location\n",
        "tweetlist = []\n",
        "geocode=\"53.1424,-7.6921,300km\" # \"53.3498053,-6.2603097,25km\"\n",
        "filter =  '-filter:retweets AND -filter:replies'\n",
        "query = 'housing'\n",
        "tweets = tweepy.Cursor(api.search_tweets, q=query+filter, geocode=geocode, lang='en', tweet_mode=\"extended\", count=20).items(20)\n",
        "\n",
        "# adds tweets to a dataframe\n",
        "column_names = [\"id\", \"created_at\", \"username\", \"tweet\", \"retweet_count\", \"favorite_count\", \"user_location\"]\n",
        "df = pd.DataFrame(columns=column_names)\n",
        "\n",
        "for tweet in tweets:\n",
        "    #create a new row object\n",
        "    new_row = pd.Series({\n",
        "        \"id\": tweet.id, \n",
        "        \"created_at\":tweet.created_at,\n",
        "        \"username\": tweet.user.screen_name, \n",
        "        \"tweet\": tweet.full_text, \n",
        "        \"retweet_count\": tweet.retweet_count, \n",
        "        \"favorite_count\": tweet.favorite_count,\n",
        "        \"user_location\":tweet.user.location,\n",
        "    })\n",
        "    \n",
        "    # get the index of the last row\n",
        "    last_row_index = len(df)\n",
        "    # add the new row to the DataFrame using .iloc[]\n",
        "    df.loc[last_row_index] = new_row\n",
        "df.head()\n",
        "    \n",
        "# Pull tweet text, id, created_at_date,  username, retweets, likes saved to temporary dataframe - Virgil - DONE"
      ]
    },
    {
      "cell_type": "code",
      "execution_count": 13,
      "metadata": {},
      "outputs": [],
      "source": [
        "# Clean the data\n",
        "    ## clean text \n",
        "    ## date_time in right format eg dd/mm/yyyy - Chirag\n",
        "\n",
        "# connect to a external DB upload cleaned data\n",
        "    ## make sure tweets are unique by id - Dipanshu\n",
        "\n",
        "# pull from database assign to dataframe - DP \n",
        "    # tokenize - virgil\n",
        "    # lematize  - Dipanshu\n",
        "    # visualise word cloud - Chirag"
      ]
    },
    {
      "cell_type": "code",
      "execution_count": 15,
      "metadata": {},
      "outputs": [],
      "source": [
        "connection = mysql.connector.connect(host='localhost',\n",
        "                                         database='ca',\n",
        "                                         user='root',\n",
        "                                         password='toor')"
      ]
    },
    {
      "cell_type": "code",
      "execution_count": 16,
      "metadata": {},
      "outputs": [],
      "source": [
        "mySql_insert_query = 'CREATE TABLE if not exists Perso (PersonID int,LastName varchar(255),FirstName varchar(255),Address varchar(255),City varchar(255));'"
      ]
    },
    {
      "cell_type": "code",
      "execution_count": 17,
      "metadata": {},
      "outputs": [],
      "source": [
        "cursor = connection.cursor()\n",
        "cursor.execute(mySql_insert_query)\n",
        "connection.commit()"
      ]
    },
    {
      "cell_type": "code",
      "execution_count": null,
      "metadata": {},
      "outputs": [],
      "source": []
    }
  ],
  "metadata": {
    "colab": {
      "provenance": []
    },
    "kernelspec": {
      "display_name": "Python 3",
      "name": "python3"
    },
    "language_info": {
      "codemirror_mode": {
        "name": "ipython",
        "version": 3
      },
      "file_extension": ".py",
      "mimetype": "text/x-python",
      "name": "python",
      "nbconvert_exporter": "python",
      "pygments_lexer": "ipython3",
      "version": "3.10.10"
    }
  },
  "nbformat": 4,
  "nbformat_minor": 0
}
