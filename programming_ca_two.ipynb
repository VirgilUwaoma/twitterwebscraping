{
  "cells": [
    {
      "cell_type": "markdown",
      "metadata": {
        "id": "XET8GQEV-4T4"
      },
      "source": [
        "Group Memebers\n",
        "\n",
        "*   Chirag Gupta - 10623123\n",
        "*   Chukwuebuka Uwaoma - 10621864\n",
        "*   Dipanshu\n",
        "\n"
      ]
    },
    {
      "cell_type": "code",
      "execution_count": 31,
      "metadata": {
        "id": "dfXBntXb22Lc"
      },
      "outputs": [],
      "source": [
        "# Import necesarry libraries\n",
        "import tweepy\n",
        "import os\n",
        "from dotenv import load_dotenv\n",
        "import numpy as np\n",
        "import pandas as pd"
      ]
    },
    {
      "cell_type": "code",
      "execution_count": 32,
      "metadata": {
        "id": "UJ3cLa0D3bGr"
      },
      "outputs": [],
      "source": [
        "# Load dotenv and read secret keys and tokens\n",
        "load_dotenv()\n",
        "api_key = os.getenv('api_key')\n",
        "api_secret_key = os.getenv('api_secret_key')\n",
        "access_token = os.getenv('access_token')\n",
        "access_token_secret = os.getenv('access_token_secret')"
      ]
    },
    {
      "cell_type": "code",
      "execution_count": 33,
      "metadata": {
        "id": "F_CxRvi33iL7"
      },
      "outputs": [],
      "source": [
        "# Connect to twitter using tweepy API and stored tokens\n",
        "auth = tweepy.OAuthHandler(api_key,api_secret_key)\n",
        "auth.set_access_token(access_token,access_token_secret)\n",
        "api = tweepy.API(auth)"
      ]
    },
    {
      "cell_type": "code",
      "execution_count": 37,
      "metadata": {},
      "outputs": [
        {
          "data": {
            "text/html": [
              "<div>\n",
              "<style scoped>\n",
              "    .dataframe tbody tr th:only-of-type {\n",
              "        vertical-align: middle;\n",
              "    }\n",
              "\n",
              "    .dataframe tbody tr th {\n",
              "        vertical-align: top;\n",
              "    }\n",
              "\n",
              "    .dataframe thead th {\n",
              "        text-align: right;\n",
              "    }\n",
              "</style>\n",
              "<table border=\"1\" class=\"dataframe\">\n",
              "  <thead>\n",
              "    <tr style=\"text-align: right;\">\n",
              "      <th></th>\n",
              "      <th>id</th>\n",
              "      <th>created_at</th>\n",
              "      <th>full_text</th>\n",
              "      <th>retweet_count</th>\n",
              "      <th>favorite_count</th>\n",
              "      <th>user_location</th>\n",
              "    </tr>\n",
              "  </thead>\n",
              "  <tbody>\n",
              "    <tr>\n",
              "      <th>0</th>\n",
              "      <td>1646608956557787136</td>\n",
              "      <td>2023-04-13 20:19:02+00:00</td>\n",
              "      <td>Tipperary County Council on track to meet hous...</td>\n",
              "      <td>0</td>\n",
              "      <td>0</td>\n",
              "      <td>Co Tipperary, Ireland</td>\n",
              "    </tr>\n",
              "    <tr>\n",
              "      <th>1</th>\n",
              "      <td>1646608956427755520</td>\n",
              "      <td>2023-04-13 20:19:02+00:00</td>\n",
              "      <td>Tipperary County Council on track to meet hous...</td>\n",
              "      <td>0</td>\n",
              "      <td>0</td>\n",
              "      <td>Clonmel</td>\n",
              "    </tr>\n",
              "    <tr>\n",
              "      <th>2</th>\n",
              "      <td>1646608556408315905</td>\n",
              "      <td>2023-04-13 20:17:27+00:00</td>\n",
              "      <td>@AnMailleach Something, something...in favour ...</td>\n",
              "      <td>0</td>\n",
              "      <td>0</td>\n",
              "      <td>Dublin City, Ireland</td>\n",
              "    </tr>\n",
              "    <tr>\n",
              "      <th>3</th>\n",
              "      <td>1646607226642092047</td>\n",
              "      <td>2023-04-13 20:12:09+00:00</td>\n",
              "      <td>@FineGael @LeoVaradkar @POTUS any chance you c...</td>\n",
              "      <td>0</td>\n",
              "      <td>0</td>\n",
              "      <td>Mayo / Galway 🇮🇪</td>\n",
              "    </tr>\n",
              "    <tr>\n",
              "      <th>4</th>\n",
              "      <td>1646604733799452716</td>\n",
              "      <td>2023-04-13 20:02:15+00:00</td>\n",
              "      <td>@Eldjb1 @KeithMillsD7 I think you're missing t...</td>\n",
              "      <td>0</td>\n",
              "      <td>0</td>\n",
              "      <td>Dublin City, Ireland</td>\n",
              "    </tr>\n",
              "  </tbody>\n",
              "</table>\n",
              "</div>"
            ],
            "text/plain": [
              "                    id                created_at   \n",
              "0  1646608956557787136 2023-04-13 20:19:02+00:00  \\\n",
              "1  1646608956427755520 2023-04-13 20:19:02+00:00   \n",
              "2  1646608556408315905 2023-04-13 20:17:27+00:00   \n",
              "3  1646607226642092047 2023-04-13 20:12:09+00:00   \n",
              "4  1646604733799452716 2023-04-13 20:02:15+00:00   \n",
              "\n",
              "                                           full_text retweet_count   \n",
              "0  Tipperary County Council on track to meet hous...             0  \\\n",
              "1  Tipperary County Council on track to meet hous...             0   \n",
              "2  @AnMailleach Something, something...in favour ...             0   \n",
              "3  @FineGael @LeoVaradkar @POTUS any chance you c...             0   \n",
              "4  @Eldjb1 @KeithMillsD7 I think you're missing t...             0   \n",
              "\n",
              "  favorite_count          user_location  \n",
              "0              0  Co Tipperary, Ireland  \n",
              "1              0                Clonmel  \n",
              "2              0   Dublin City, Ireland  \n",
              "3              0       Mayo / Galway 🇮🇪  \n",
              "4              0   Dublin City, Ireland  "
            ]
          },
          "execution_count": 37,
          "metadata": {},
          "output_type": "execute_result"
        }
      ],
      "source": [
        "# Pulls tweets based on search query and geocode location\n",
        "tweetlist = []\n",
        "geocode=\"53.1424,-7.6921,300km\" # \"53.3498053,-6.2603097,25km\"\n",
        "tweets = tweepy.Cursor(api.search_tweets, q='housing', geocode=geocode, lang='en', tweet_mode=\"extended\", count=20).items(20)\n",
        "\n",
        "# adds tweets to a dataframe\n",
        "column_names = [\"id\", \"created_at\", \"full_text\", \"retweet_count\", \"favorite_count\", \"user_location\"]\n",
        "df = pd.DataFrame(columns=column_names)\n",
        "df.head()\n",
        "\n",
        "for tweet in tweets:\n",
        "    #create a new row object\n",
        "    new_row = pd.Series({\n",
        "        \"id\": tweet.id, \n",
        "        \"created_at\":tweet.created_at, \n",
        "        \"full_text\": tweet.full_text, \n",
        "        \"retweet_count\": tweet.retweet_count, \n",
        "        \"favorite_count\": tweet.favorite_count,\n",
        "        \"user_location\":tweet.user.location,\n",
        "    })\n",
        "    # get the index of the last row\n",
        "    last_row_index = len(df)\n",
        "    # add the new row to the DataFrame using .iloc[]\n",
        "    df.loc[last_row_index] = new_row\n",
        "df.head()\n",
        "    \n",
        "# Pull tweet text, id, created_at_date,  username, retweets, likes saved to temporary dataframe - Virgil"
      ]
    },
    {
      "cell_type": "code",
      "execution_count": null,
      "metadata": {},
      "outputs": [],
      "source": [
        "# Clean the data\n",
        "    ## clean text \n",
        "    ## date_time in right format eg dd/mm/yyyy - Chirag\n",
        "\n",
        "# connect to a external DB upload cleaned data\n",
        "    ## make sure tweets are unique by id - Dipanshu\n",
        "\n",
        "# pull from database assign to dataframe - DP \n",
        "    # tokenize - virgil\n",
        "    # lematize  - Dipanshu\n",
        "    # visualise word cloud - Chirag"
      ]
    }
  ],
  "metadata": {
    "colab": {
      "provenance": []
    },
    "kernelspec": {
      "display_name": "Python 3",
      "name": "python3"
    },
    "language_info": {
      "codemirror_mode": {
        "name": "ipython",
        "version": 3
      },
      "file_extension": ".py",
      "mimetype": "text/x-python",
      "name": "python",
      "nbconvert_exporter": "python",
      "pygments_lexer": "ipython3",
      "version": "3.9.6"
    }
  },
  "nbformat": 4,
  "nbformat_minor": 0
}
