{
  "nbformat": 4,
  "nbformat_minor": 0,
  "metadata": {
    "colab": {
      "provenance": []
    },
    "kernelspec": {
      "name": "python3",
      "display_name": "Python 3"
    },
    "language_info": {
      "name": "python"
    }
  },
  "cells": [
    {
      "cell_type": "markdown",
      "source": [
        "Group Memebers\n",
        "\n",
        "*   Chirag Gupta - 10623123\n",
        "*   Chukwuebuka Uwaoma - 10621864\n",
        "*   Dipanshu\n",
        "\n"
      ],
      "metadata": {
        "id": "XET8GQEV-4T4"
      }
    },
    {
      "cell_type": "code",
      "execution_count": 1,
      "metadata": {
        "id": "dfXBntXb22Lc"
      },
      "outputs": [],
      "source": [
        "import tweepy\n",
        "import os"
      ]
    },
    {
      "cell_type": "code",
      "source": [
        "api_key             = os.getenv('api_key')\n",
        "api_secret_key      = os.getenv('api_secret_key')\n",
        "access_token        = os.getenv('access_token')\n",
        "access_token_secret = os.getenv('access_token_secret')"
      ],
      "metadata": {
        "id": "UJ3cLa0D3bGr"
      },
      "execution_count": null,
      "outputs": []
    },
    {
      "cell_type": "code",
      "source": [
        "auth = tweepy.OAuthHandler(api_key,api_secret_key)\n",
        "auth.set_access_token(access_token,access_token_secret)\n",
        "api = tweepy.API(auth)"
      ],
      "metadata": {
        "id": "F_CxRvi33iL7"
      },
      "execution_count": null,
      "outputs": []
    },
    {
      "cell_type": "code",
      "source": [
        "tweets = api.search(q='your_search_query', geocode='latitude,longitude,radius')"
      ],
      "metadata": {
        "id": "eH7zIhzV4JpY"
      },
      "execution_count": null,
      "outputs": []
    }
  ]
}