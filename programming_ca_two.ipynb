{
  "cells": [
    {
      "cell_type": "markdown",
      "metadata": {
        "id": "XET8GQEV-4T4"
      },
      "source": [
        "Group Memebers\n",
        "\n",
        "*   Chirag Gupta - 10623123\n",
        "*   Chukwuebuka Uwaoma - 10621864\n",
        "*   Dipanshu\n",
        "\n"
      ]
    },
    {
      "cell_type": "code",
      "execution_count": null,
      "metadata": {
        "id": "dfXBntXb22Lc"
      },
      "outputs": [],
      "source": [
        "# Import necesarry libraries\n",
        "import tweepy\n",
        "import os\n",
        "from dotenv import load_dotenv"
      ]
    },
    {
      "cell_type": "code",
      "execution_count": 42,
      "metadata": {
        "id": "UJ3cLa0D3bGr"
      },
      "outputs": [],
      "source": [
        "# Load dotenv and read secret keys and tokens\n",
        "load_dotenv()\n",
        "api_key = os.getenv('api_key')\n",
        "api_secret_key = os.getenv('api_secret_key')\n",
        "access_token = os.getenv('access_token')\n",
        "access_token_secret = os.getenv('access_token_secret')"
      ]
    },
    {
      "cell_type": "code",
      "execution_count": 68,
      "metadata": {
        "id": "F_CxRvi33iL7"
      },
      "outputs": [],
      "source": [
        "# Connect to twitter using tweepy API and stored tokens\n",
        "auth = tweepy.OAuthHandler(api_key,api_secret_key)\n",
        "auth.set_access_token(access_token,access_token_secret)\n",
        "api = tweepy.API(auth)"
      ]
    },
    {
      "cell_type": "code",
      "execution_count": 100,
      "metadata": {},
      "outputs": [
        {
          "name": "stdout",
          "output_type": "stream",
          "text": [
            "200\n"
          ]
        }
      ],
      "source": [
        "# Pulls tweets based on search query and geocode location\n",
        "tweetlist = []\n",
        "geocode=\"53.3498053,-6.2603097,25km\"\n",
        "tweets = tweepy.Cursor(api.search_tweets, q='housing', geocode=geocode, lang='en', tweet_mode=\"extended\", count=100).items(2000)\n",
        "\n",
        "# prints each tweet's text\n",
        "for tweet in tweets:\n",
        "    if hasattr(tweet, \"retweeted_status\"):\n",
        "        tweet = tweet.retweeted_status\n",
        "    if hasattr(tweet, \"full_text\"):\n",
        "        tweetlist.append(tweet.full_text)\n",
        "    else:\n",
        "        tweetlist.append(tweet.text)\n",
        "# Pull tweet text, id, created_at_date,  username, retweets saved to temporary dataframe - Virgil"
      ]
    },
    {
      "cell_type": "code",
      "execution_count": null,
      "metadata": {},
      "outputs": [],
      "source": [
        "# Clean the data\n",
        "    ## clean text \n",
        "    ## date_time in right format eg dd/mm/yyyy - Chirag\n",
        "\n",
        "# connect to a external DB upload cleaned data\n",
        "    ## make sure tweets are unique by id - Dipanshu\n",
        "\n",
        "# pull from database assign to dataframe - DP \n",
        "    # tokenize - virgil\n",
        "    # lematize  - Dipanshu\n",
        "    # visualise word cloud - Chirag"
      ]
    }
  ],
  "metadata": {
    "colab": {
      "provenance": []
    },
    "kernelspec": {
      "display_name": "Python 3",
      "name": "python3"
    },
    "language_info": {
      "codemirror_mode": {
        "name": "ipython",
        "version": 3
      },
      "file_extension": ".py",
      "mimetype": "text/x-python",
      "name": "python",
      "nbconvert_exporter": "python",
      "pygments_lexer": "ipython3",
      "version": "3.11.1"
    }
  },
  "nbformat": 4,
  "nbformat_minor": 0
}
